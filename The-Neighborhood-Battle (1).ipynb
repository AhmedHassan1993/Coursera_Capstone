{
 "cells": [
  {
   "cell_type": "markdown",
   "metadata": {},
   "source": [
    "# -> Capstone The Battle of Neighborhoods"
   ]
  },
  {
   "cell_type": "markdown",
   "metadata": {},
   "source": [
    "## Table of Contents\n",
    "* [Introduction](#introduction)\n",
    "* [Data](#data)\n",
    "* [Methodology](#Methodology)\n",
    "* [Analysis](#analysis)\n",
    "* [Result & Discussion](#Results)\n",
    "* [Conclusion](#conclusion)"
   ]
  },
  {
   "cell_type": "markdown",
   "metadata": {},
   "source": [
    "## Introduction\n",
    "The aim of this project is to help stakeholders, who are interested in opening a **Mexican Restaurant** in **Toronto**, **Canada**, to find the optimal location to establish the Restaurant. \n",
    "\n",
    "There are several factors to be considered to open a restaurant such as: Customers, Staffing, Competition, Menu etc. One of the most important factors is finding the best **Location** to open a Mexican Restaurant. We need to consider places **aren't** crowded with restaurants. Specially we are looking for a place with **no** Mexican Restaurants in vicinity.\n",
    "\n",
    "So we gonna use data science to analysis the Data of Toronto City. Also, we will use the Foursquare API to explore the neighborhoods.\n",
    "Advantages of each area will then be clearly expressed so that best possible final location can be chosen by stakeholders.\n"
   ]
  },
  {
   "cell_type": "markdown",
   "metadata": {},
   "source": [
    "## Data\n",
    "In this project we will get our data from Wikipedia website. Here is the link <a>\"https://en.wikipedia.org/wiki/List_of_postal_codes_of_Canada:_M\"</a>. We will find in this link a table consisting of three columns (Postal Codes, Boroughs, Neighborhoods), this table is our data that we gonna use to analyze Toronto City. But what about Foursquare API?. How we gonna explore the neighborhoods without Geographical coordinates for each neighborhood?. Here is the link to download the latitude and longitude for each postal code https://cocl.us/Geospatial_data   \n",
    "\n",
    "After getting the data we need, these data need preparation (Data Wrangling) to get rid of any unuseful information. Because after scraping the data from the website and converting it into pandas DataFrame, we will find a lot of missing data (Not Assigned) for certain neighborhoods, due to lack of record keeping."
   ]
  },
  {
   "cell_type": "code",
   "execution_count": null,
   "metadata": {},
   "outputs": [],
   "source": []
  }
 ],
 "metadata": {
  "kernelspec": {
   "display_name": "Python",
   "language": "python",
   "name": "conda-env-python-py"
  },
  "language_info": {
   "codemirror_mode": {
    "name": "ipython",
    "version": 3
   },
   "file_extension": ".py",
   "mimetype": "text/x-python",
   "name": "python",
   "nbconvert_exporter": "python",
   "pygments_lexer": "ipython3",
   "version": "3.6.10"
  }
 },
 "nbformat": 4,
 "nbformat_minor": 4
}
