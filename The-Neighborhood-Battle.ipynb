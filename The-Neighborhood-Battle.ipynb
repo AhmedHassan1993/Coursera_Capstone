{
 "cells": [
  {
   "cell_type": "markdown",
   "metadata": {},
   "source": [
    "# -> Capstone The Battle of Neighborhoods"
   ]
  },
  {
   "cell_type": "markdown",
   "metadata": {},
   "source": [
    "## Table of Contents\n",
    "* [Introduction](#introduction)\n",
    "* [Data](#data)\n",
    "* [Methodology](#Methodology)\n",
    "* [Analysis](#analysis)\n",
    "* [Result & Discussion](#Results)\n",
    "* [Conclusion](#conclusion)"
   ]
  },
  {
   "cell_type": "markdown",
   "metadata": {},
   "source": [
    "## Introduction\n",
    "The aim of this project is to help stakeholders, who are interested in opening a **Mexican Restaurant** in **Toronto**, **Canada**, to find the optimal location to establish the Restaurant. \n",
    "\n",
    "There are several factors to be considered to open a restaurant such as: Customers, Staffing, Competition, Menu etc. One of the most important factors is finding the best **Location** to open a Mexican Restaurant. We need to consider places **aren't** crowded with restaurants. Specially we are looking for a place with **no** Mexican Restaurants in vicinity.\n",
    "\n",
    "So we gonna use data science to analysis the Data of Toronto City. Also, we will use the Foursquare API to explore the neighborhoods.\n",
    "Advantages of each area will then be clearly expressed so that best possible final location can be chosen by stakeholders.\n"
   ]
  },
  {
   "cell_type": "markdown",
   "metadata": {},
   "source": []
  }
 ],
 "metadata": {
  "kernelspec": {
   "display_name": "Python",
   "language": "python",
   "name": "conda-env-python-py"
  },
  "language_info": {
   "codemirror_mode": {
    "name": "ipython",
    "version": 3
   },
   "file_extension": ".py",
   "mimetype": "text/x-python",
   "name": "python",
   "nbconvert_exporter": "python",
   "pygments_lexer": "ipython3",
   "version": "3.6.10"
  }
 },
 "nbformat": 4,
 "nbformat_minor": 4
}
